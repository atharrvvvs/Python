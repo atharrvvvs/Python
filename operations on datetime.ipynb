{
 "cells": [
  {
   "cell_type": "code",
   "execution_count": 22,
   "metadata": {},
   "outputs": [
    {
     "name": "stdout",
     "output_type": "stream",
     "text": [
      "Current time:  2024-10-04 10:38:53.323913\n",
      "Its my date:  (2004, 12, 13)\n"
     ]
    }
   ],
   "source": [
    "import datetime\n",
    "from datetime import datetime\n",
    "import pandas as pd\n",
    "now = datetime.now()\n",
    "print(\"Current time: \",now)\n",
    "mydate = (2004, 12 ,13)\n",
    "print(\"Its my date: \",mydate)"
   ]
  },
  {
   "cell_type": "code",
   "execution_count": 5,
   "metadata": {},
   "outputs": [
    {
     "name": "stdout",
     "output_type": "stream",
     "text": [
      "Date of birth:  2004-03-15 08:00:00\n"
     ]
    }
   ],
   "source": [
    "#creating object\n",
    "\n",
    "date_obj = datetime(2004,3,15,8,0)\n",
    "print(\"Date of birth: \",date_obj)"
   ]
  },
  {
   "cell_type": "code",
   "execution_count": 11,
   "metadata": {},
   "outputs": [
    {
     "name": "stdout",
     "output_type": "stream",
     "text": [
      "2024-10-04 18:30:30\n"
     ]
    }
   ],
   "source": [
    "#convert date to a object. \n",
    "\n",
    "date_str = '2024-10-04 18:30:30'\n",
    "date_obj = pd.to_datetime(date_str)\n",
    "print(date_obj)"
   ]
  },
  {
   "cell_type": "code",
   "execution_count": 14,
   "metadata": {},
   "outputs": [
    {
     "name": "stdout",
     "output_type": "stream",
     "text": [
      "DatetimeIndex(['2024-01-01', '2024-01-02', '2024-01-03', '2024-01-04',\n",
      "               '2024-01-05', '2024-01-06', '2024-01-07', '2024-01-08',\n",
      "               '2024-01-09', '2024-01-10'],\n",
      "              dtype='datetime64[ns]', freq='D')\n",
      "        date  value\n",
      "0 2024-01-01      0\n",
      "1 2024-01-02      1\n",
      "2 2024-01-03      2\n",
      "3 2024-01-04      3\n",
      "4 2024-01-05      4\n",
      "5 2024-01-06      5\n",
      "6 2024-01-07      6\n",
      "7 2024-01-08      7\n",
      "8 2024-01-09      8\n",
      "9 2024-01-10      9\n"
     ]
    }
   ],
   "source": [
    "date_range = pd.date_range(start = '2024-01-01', end = '2024-01-10', freq = 'D')\n",
    "print(date_range)\n",
    "\n",
    "df = pd.DataFrame({\n",
    "    'date' : date_range,\n",
    "    'value' : range(10)\n",
    "})\n",
    "print(df)"
   ]
  },
  {
   "cell_type": "code",
   "execution_count": null,
   "metadata": {},
   "outputs": [],
   "source": []
  }
 ],
 "metadata": {
  "kernelspec": {
   "display_name": "Python 3",
   "language": "python",
   "name": "python3"
  },
  "language_info": {
   "codemirror_mode": {
    "name": "ipython",
    "version": 3
   },
   "file_extension": ".py",
   "mimetype": "text/x-python",
   "name": "python",
   "nbconvert_exporter": "python",
   "pygments_lexer": "ipython3",
   "version": "3.8.5"
  }
 },
 "nbformat": 4,
 "nbformat_minor": 4
}
