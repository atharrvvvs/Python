{
 "cells": [
  {
   "cell_type": "code",
   "execution_count": 1,
   "metadata": {},
   "outputs": [],
   "source": [
    "import pandas as pd\n",
    "from datetime import datetime"
   ]
  },
  {
   "cell_type": "code",
   "execution_count": 2,
   "metadata": {},
   "outputs": [],
   "source": [
    "data = {\n",
    "    'Name': ['Atharv', 'Vaiju', 'Manav', 'Vinu', 'Adii'],\n",
    "    'Date_of_Birth': ['2004-03-15', '1985-10-15', '2000-02-20', '1975-11-30', '2010-07-22']\n",
    "}"
   ]
  },
  {
   "cell_type": "code",
   "execution_count": 3,
   "metadata": {},
   "outputs": [],
   "source": [
    "df = pd.DataFrame(data)\n",
    "df['Date_of_Birth'] = pd.to_datetime(df['Date_of_Birth'])\n",
    "current_date = pd.to_datetime(datetime.now())"
   ]
  },
  {
   "cell_type": "code",
   "execution_count": 11,
   "metadata": {},
   "outputs": [],
   "source": [
    "df['Age'] = (current_date - df['Date_of_Birth']).dt.days \n",
    "df['Rolling_Avg_Age'] = df['Age'].rolling(window=2).mean()\n",
    "df['Expanding_Avg_Age'] = df['Age'].expanding().mean()"
   ]
  },
  {
   "cell_type": "code",
   "execution_count": 10,
   "metadata": {
    "scrolled": true
   },
   "outputs": [
    {
     "name": "stdout",
     "output_type": "stream",
     "text": [
      "     Name Date_of_Birth    Age  Rolling_Avg_Age  Expanding_Avg_Age\n",
      "0  Atharv    2004-03-15   7508              NaN             7508.0\n",
      "1   Vaiju    1985-10-15  14234              NaN            10871.0\n",
      "2   Manav    2000-02-20   8993     10245.000000            10245.0\n",
      "3    Vinu    1975-11-30  17841     13689.333333            12144.0\n",
      "4    Adii    2010-07-22   5188     10674.000000            10752.8\n"
     ]
    }
   ],
   "source": [
    "print(df[['Name', 'Date_of_Birth', 'Age', 'Rolling_Avg_Age', 'Expanding_Avg_Age']])\n"
   ]
  },
  {
   "cell_type": "code",
   "execution_count": null,
   "metadata": {},
   "outputs": [],
   "source": []
  }
 ],
 "metadata": {
  "kernelspec": {
   "display_name": "Python 3",
   "language": "python",
   "name": "python3"
  },
  "language_info": {
   "codemirror_mode": {
    "name": "ipython",
    "version": 3
   },
   "file_extension": ".py",
   "mimetype": "text/x-python",
   "name": "python",
   "nbconvert_exporter": "python",
   "pygments_lexer": "ipython3",
   "version": "3.8.5"
  }
 },
 "nbformat": 4,
 "nbformat_minor": 4
}
